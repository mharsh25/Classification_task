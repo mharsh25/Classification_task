{
 "cells": [
  {
   "cell_type": "markdown",
   "id": "fbf8005b",
   "metadata": {},
   "source": [
    "Link to dataset: https://archive.ics.uci.edu/dataset/544/estimation+of+obesity+levels+based+on+eating+habits+and+physical+condition"
   ]
  },
  {
   "cell_type": "markdown",
   "id": "181e138e",
   "metadata": {},
   "source": [
    "Dataset Info\n",
    "\n",
    "|Variable Name | Role | Type | Demographic | Description | Units | Missing Values|  \n",
    "|-------------|------|------|-------------|-------------|-------|---------------| \n",
    "|Gender | Feature | Categorical | Gender | no | \n",
    "|Age | Feature | Continuous | Age | no | \n",
    "|Height | Feature | Continuous | no | \n",
    "|Weight | Feature | Continuous | no | \n",
    "|family_history_with_overweight | Feature | Binary | Has a family member suffered or suffers from overweight? | no | \n",
    "|FAVC | Feature | Binary | Do you eat high caloric food frequently? | no | \n",
    "|FCVC | Feature | Integer | Do you usually eat vegetables in your meals? | no | \n",
    "|NCP | Feature | Continuous | How many main meals do you have daily? | no | \n",
    "|CAEC | Feature | Categorical | Do you eat any food between meals? | no | \n",
    "|SMOKE | Feature | Binary | Do you smoke? | no | \n",
    "|CH2O | Feature | Continuous | How much water do you drink daily? | no | \n",
    "|SCC | Feature | Binary | Do you monitor the calories you eat daily? | no | \n",
    "|FAF | Feature | Continuous | How often do you have physical activity? | no | \n",
    "|TUE | Feature | Integer | How much time do you use technological devices such as cell phone, videogames, television, computer and others? | no | \n",
    "|CALC | Feature | Categorical | How often do you drink alcohol? | no | \n",
    "|MTRANS | Feature | Categorical | Which transportation do you usually use? | no | \n",
    "|NObeyesdad | Target | Categorical | Obesity level | no | "
   ]
  },
  {
   "cell_type": "code",
   "execution_count": 1,
   "id": "6349c7d4",
   "metadata": {},
   "outputs": [],
   "source": [
    "##!pip install ydata-profiling\n",
    "\n"
   ]
  },
  {
   "cell_type": "code",
   "execution_count": 2,
   "id": "cc21ac11",
   "metadata": {},
   "outputs": [
    {
     "name": "stdout",
     "output_type": "stream",
     "text": [
      "Requirement already satisfied: setuptools in c:\\users\\a5396\\music\\classification_project\\py312env\\lib\\site-packages (80.9.0)\n"
     ]
    }
   ],
   "source": [
    "!pip install --upgrade setuptools\n"
   ]
  },
  {
   "cell_type": "code",
   "execution_count": 8,
   "id": "7f04e266",
   "metadata": {},
   "outputs": [
    {
     "data": {
      "text/plain": [
       "'c:\\\\Users\\\\A5396\\\\Music\\\\classification_project\\\\Notebooks'"
      ]
     },
     "execution_count": 8,
     "metadata": {},
     "output_type": "execute_result"
    }
   ],
   "source": [
    "pwd"
   ]
  },
  {
   "cell_type": "code",
   "execution_count": 1,
   "id": "ba95355d",
   "metadata": {},
   "outputs": [
    {
     "data": {
      "text/html": [
       "\n",
       "            <div>\n",
       "                <ins><a href=\"https://ydata.ai/register\">Upgrade to ydata-sdk</a></ins>\n",
       "                <p>\n",
       "                    Improve your data and profiling with ydata-sdk, featuring data quality scoring, redundancy detection, outlier identification, text validation, and synthetic data generation.\n",
       "                </p>\n",
       "            </div>\n",
       "            "
      ],
      "text/plain": [
       "<IPython.core.display.HTML object>"
      ]
     },
     "metadata": {},
     "output_type": "display_data"
    }
   ],
   "source": [
    "import pandas as pd\n",
    "import numpy as np\n",
    "import matplotlib.pyplot as plt\n",
    "import seaborn as sns\n",
    "from ydata_profiling import ProfileReport\n",
    "%matplotlib inline\n"
   ]
  },
  {
   "cell_type": "code",
   "execution_count": 3,
   "id": "0b635160",
   "metadata": {},
   "outputs": [
    {
     "data": {
      "text/plain": [
       "array(['Public_Transportation', 'Walking', 'Automobile', 'Motorbike',\n",
       "       'Bike'], dtype=object)"
      ]
     },
     "execution_count": 3,
     "metadata": {},
     "output_type": "execute_result"
    }
   ],
   "source": [
    "dataset=pd.read_csv(\"ObesityDataSet_raw_and_data_sinthetic.csv\")\n",
    "dataset[\"MTRANS\"].unique()"
   ]
  },
  {
   "cell_type": "code",
   "execution_count": 5,
   "id": "2d3cedf1",
   "metadata": {},
   "outputs": [
    {
     "name": "stderr",
     "output_type": "stream",
     "text": [
      "100%|██████████| 17/17 [00:00<00:00, 119.85it/s]<00:00, 67.29it/s, Describe variable: NObeyesdad]\n",
      "Summarize dataset: 100%|██████████| 90/90 [00:07<00:00, 11.94it/s, Completed]                    \n",
      "Generate report structure: 100%|██████████| 1/1 [00:03<00:00,  3.32s/it]\n",
      "Render HTML: 100%|██████████| 1/1 [00:01<00:00,  1.88s/it]\n",
      "Export report to file: 100%|██████████| 1/1 [00:00<00:00, 55.18it/s]\n"
     ]
    }
   ],
   "source": [
    "profile = ProfileReport(dataset, title=\"My Data Report\", explorative=True)\n",
    "\n",
    "# Export report to HTML\n",
    "profile.to_file(\"my_data_report.html\")"
   ]
  },
  {
   "cell_type": "code",
   "execution_count": 10,
   "id": "54c5fa37",
   "metadata": {},
   "outputs": [
    {
     "data": {
      "text/html": [
       "<div>\n",
       "<style scoped>\n",
       "    .dataframe tbody tr th:only-of-type {\n",
       "        vertical-align: middle;\n",
       "    }\n",
       "\n",
       "    .dataframe tbody tr th {\n",
       "        vertical-align: top;\n",
       "    }\n",
       "\n",
       "    .dataframe thead th {\n",
       "        text-align: right;\n",
       "    }\n",
       "</style>\n",
       "<table border=\"1\" class=\"dataframe\">\n",
       "  <thead>\n",
       "    <tr style=\"text-align: right;\">\n",
       "      <th></th>\n",
       "      <th>Gender</th>\n",
       "      <th>Age</th>\n",
       "      <th>Height</th>\n",
       "      <th>Weight</th>\n",
       "      <th>family_history_with_overweight</th>\n",
       "      <th>FAVC</th>\n",
       "      <th>FCVC</th>\n",
       "      <th>NCP</th>\n",
       "      <th>CAEC</th>\n",
       "      <th>SMOKE</th>\n",
       "      <th>CH2O</th>\n",
       "      <th>SCC</th>\n",
       "      <th>FAF</th>\n",
       "      <th>TUE</th>\n",
       "      <th>CALC</th>\n",
       "      <th>MTRANS</th>\n",
       "      <th>NObeyesdad</th>\n",
       "    </tr>\n",
       "  </thead>\n",
       "  <tbody>\n",
       "    <tr>\n",
       "      <th>0</th>\n",
       "      <td>Female</td>\n",
       "      <td>21.0</td>\n",
       "      <td>1.62</td>\n",
       "      <td>64.0</td>\n",
       "      <td>yes</td>\n",
       "      <td>no</td>\n",
       "      <td>2.0</td>\n",
       "      <td>3.0</td>\n",
       "      <td>Sometimes</td>\n",
       "      <td>no</td>\n",
       "      <td>2.0</td>\n",
       "      <td>no</td>\n",
       "      <td>0.0</td>\n",
       "      <td>1.0</td>\n",
       "      <td>no</td>\n",
       "      <td>Public_Transportation</td>\n",
       "      <td>Normal_Weight</td>\n",
       "    </tr>\n",
       "    <tr>\n",
       "      <th>1</th>\n",
       "      <td>Female</td>\n",
       "      <td>21.0</td>\n",
       "      <td>1.52</td>\n",
       "      <td>56.0</td>\n",
       "      <td>yes</td>\n",
       "      <td>no</td>\n",
       "      <td>3.0</td>\n",
       "      <td>3.0</td>\n",
       "      <td>Sometimes</td>\n",
       "      <td>yes</td>\n",
       "      <td>3.0</td>\n",
       "      <td>yes</td>\n",
       "      <td>3.0</td>\n",
       "      <td>0.0</td>\n",
       "      <td>Sometimes</td>\n",
       "      <td>Public_Transportation</td>\n",
       "      <td>Normal_Weight</td>\n",
       "    </tr>\n",
       "    <tr>\n",
       "      <th>2</th>\n",
       "      <td>Male</td>\n",
       "      <td>23.0</td>\n",
       "      <td>1.80</td>\n",
       "      <td>77.0</td>\n",
       "      <td>yes</td>\n",
       "      <td>no</td>\n",
       "      <td>2.0</td>\n",
       "      <td>3.0</td>\n",
       "      <td>Sometimes</td>\n",
       "      <td>no</td>\n",
       "      <td>2.0</td>\n",
       "      <td>no</td>\n",
       "      <td>2.0</td>\n",
       "      <td>1.0</td>\n",
       "      <td>Frequently</td>\n",
       "      <td>Public_Transportation</td>\n",
       "      <td>Normal_Weight</td>\n",
       "    </tr>\n",
       "    <tr>\n",
       "      <th>3</th>\n",
       "      <td>Male</td>\n",
       "      <td>27.0</td>\n",
       "      <td>1.80</td>\n",
       "      <td>87.0</td>\n",
       "      <td>no</td>\n",
       "      <td>no</td>\n",
       "      <td>3.0</td>\n",
       "      <td>3.0</td>\n",
       "      <td>Sometimes</td>\n",
       "      <td>no</td>\n",
       "      <td>2.0</td>\n",
       "      <td>no</td>\n",
       "      <td>2.0</td>\n",
       "      <td>0.0</td>\n",
       "      <td>Frequently</td>\n",
       "      <td>Walking</td>\n",
       "      <td>Overweight_Level_I</td>\n",
       "    </tr>\n",
       "    <tr>\n",
       "      <th>4</th>\n",
       "      <td>Male</td>\n",
       "      <td>22.0</td>\n",
       "      <td>1.78</td>\n",
       "      <td>89.8</td>\n",
       "      <td>no</td>\n",
       "      <td>no</td>\n",
       "      <td>2.0</td>\n",
       "      <td>1.0</td>\n",
       "      <td>Sometimes</td>\n",
       "      <td>no</td>\n",
       "      <td>2.0</td>\n",
       "      <td>no</td>\n",
       "      <td>0.0</td>\n",
       "      <td>0.0</td>\n",
       "      <td>Sometimes</td>\n",
       "      <td>Public_Transportation</td>\n",
       "      <td>Overweight_Level_II</td>\n",
       "    </tr>\n",
       "  </tbody>\n",
       "</table>\n",
       "</div>"
      ],
      "text/plain": [
       "   Gender   Age  Height  Weight family_history_with_overweight FAVC  FCVC  \\\n",
       "0  Female  21.0    1.62    64.0                            yes   no   2.0   \n",
       "1  Female  21.0    1.52    56.0                            yes   no   3.0   \n",
       "2    Male  23.0    1.80    77.0                            yes   no   2.0   \n",
       "3    Male  27.0    1.80    87.0                             no   no   3.0   \n",
       "4    Male  22.0    1.78    89.8                             no   no   2.0   \n",
       "\n",
       "   NCP       CAEC SMOKE  CH2O  SCC  FAF  TUE        CALC  \\\n",
       "0  3.0  Sometimes    no   2.0   no  0.0  1.0          no   \n",
       "1  3.0  Sometimes   yes   3.0  yes  3.0  0.0   Sometimes   \n",
       "2  3.0  Sometimes    no   2.0   no  2.0  1.0  Frequently   \n",
       "3  3.0  Sometimes    no   2.0   no  2.0  0.0  Frequently   \n",
       "4  1.0  Sometimes    no   2.0   no  0.0  0.0   Sometimes   \n",
       "\n",
       "                  MTRANS           NObeyesdad  \n",
       "0  Public_Transportation        Normal_Weight  \n",
       "1  Public_Transportation        Normal_Weight  \n",
       "2  Public_Transportation        Normal_Weight  \n",
       "3                Walking   Overweight_Level_I  \n",
       "4  Public_Transportation  Overweight_Level_II  "
      ]
     },
     "execution_count": 10,
     "metadata": {},
     "output_type": "execute_result"
    }
   ],
   "source": [
    "dataset.head()"
   ]
  },
  {
   "cell_type": "code",
   "execution_count": 11,
   "id": "b47d77e6",
   "metadata": {},
   "outputs": [
    {
     "data": {
      "text/plain": [
       "Index(['Gender', 'family_history_with_overweight', 'FAVC', 'CAEC', 'SMOKE',\n",
       "       'SCC', 'CALC', 'MTRANS', 'NObeyesdad'],\n",
       "      dtype='object')"
      ]
     },
     "execution_count": 11,
     "metadata": {},
     "output_type": "execute_result"
    }
   ],
   "source": [
    "dataset.select_dtypes(exclude=np.number).columns"
   ]
  },
  {
   "cell_type": "code",
   "execution_count": 8,
   "id": "d9e63f16",
   "metadata": {},
   "outputs": [
    {
     "data": {
      "text/html": [
       "<div>\n",
       "<style scoped>\n",
       "    .dataframe tbody tr th:only-of-type {\n",
       "        vertical-align: middle;\n",
       "    }\n",
       "\n",
       "    .dataframe tbody tr th {\n",
       "        vertical-align: top;\n",
       "    }\n",
       "\n",
       "    .dataframe thead th {\n",
       "        text-align: right;\n",
       "    }\n",
       "</style>\n",
       "<table border=\"1\" class=\"dataframe\">\n",
       "  <thead>\n",
       "    <tr style=\"text-align: right;\">\n",
       "      <th></th>\n",
       "      <th>Age</th>\n",
       "      <th>Height</th>\n",
       "      <th>Weight</th>\n",
       "      <th>FCVC</th>\n",
       "      <th>NCP</th>\n",
       "      <th>CH2O</th>\n",
       "      <th>FAF</th>\n",
       "      <th>TUE</th>\n",
       "    </tr>\n",
       "  </thead>\n",
       "  <tbody>\n",
       "    <tr>\n",
       "      <th>count</th>\n",
       "      <td>2111.000000</td>\n",
       "      <td>2111.000000</td>\n",
       "      <td>2111.000000</td>\n",
       "      <td>2111.000000</td>\n",
       "      <td>2111.000000</td>\n",
       "      <td>2111.000000</td>\n",
       "      <td>2111.000000</td>\n",
       "      <td>2111.000000</td>\n",
       "    </tr>\n",
       "    <tr>\n",
       "      <th>mean</th>\n",
       "      <td>24.312600</td>\n",
       "      <td>1.701677</td>\n",
       "      <td>86.586058</td>\n",
       "      <td>2.419043</td>\n",
       "      <td>2.685628</td>\n",
       "      <td>2.008011</td>\n",
       "      <td>1.010298</td>\n",
       "      <td>0.657866</td>\n",
       "    </tr>\n",
       "    <tr>\n",
       "      <th>std</th>\n",
       "      <td>6.345968</td>\n",
       "      <td>0.093305</td>\n",
       "      <td>26.191172</td>\n",
       "      <td>0.533927</td>\n",
       "      <td>0.778039</td>\n",
       "      <td>0.612953</td>\n",
       "      <td>0.850592</td>\n",
       "      <td>0.608927</td>\n",
       "    </tr>\n",
       "    <tr>\n",
       "      <th>min</th>\n",
       "      <td>14.000000</td>\n",
       "      <td>1.450000</td>\n",
       "      <td>39.000000</td>\n",
       "      <td>1.000000</td>\n",
       "      <td>1.000000</td>\n",
       "      <td>1.000000</td>\n",
       "      <td>0.000000</td>\n",
       "      <td>0.000000</td>\n",
       "    </tr>\n",
       "    <tr>\n",
       "      <th>25%</th>\n",
       "      <td>19.947192</td>\n",
       "      <td>1.630000</td>\n",
       "      <td>65.473343</td>\n",
       "      <td>2.000000</td>\n",
       "      <td>2.658738</td>\n",
       "      <td>1.584812</td>\n",
       "      <td>0.124505</td>\n",
       "      <td>0.000000</td>\n",
       "    </tr>\n",
       "    <tr>\n",
       "      <th>50%</th>\n",
       "      <td>22.777890</td>\n",
       "      <td>1.700499</td>\n",
       "      <td>83.000000</td>\n",
       "      <td>2.385502</td>\n",
       "      <td>3.000000</td>\n",
       "      <td>2.000000</td>\n",
       "      <td>1.000000</td>\n",
       "      <td>0.625350</td>\n",
       "    </tr>\n",
       "    <tr>\n",
       "      <th>75%</th>\n",
       "      <td>26.000000</td>\n",
       "      <td>1.768464</td>\n",
       "      <td>107.430682</td>\n",
       "      <td>3.000000</td>\n",
       "      <td>3.000000</td>\n",
       "      <td>2.477420</td>\n",
       "      <td>1.666678</td>\n",
       "      <td>1.000000</td>\n",
       "    </tr>\n",
       "    <tr>\n",
       "      <th>max</th>\n",
       "      <td>61.000000</td>\n",
       "      <td>1.980000</td>\n",
       "      <td>173.000000</td>\n",
       "      <td>3.000000</td>\n",
       "      <td>4.000000</td>\n",
       "      <td>3.000000</td>\n",
       "      <td>3.000000</td>\n",
       "      <td>2.000000</td>\n",
       "    </tr>\n",
       "  </tbody>\n",
       "</table>\n",
       "</div>"
      ],
      "text/plain": [
       "               Age       Height       Weight         FCVC          NCP  \\\n",
       "count  2111.000000  2111.000000  2111.000000  2111.000000  2111.000000   \n",
       "mean     24.312600     1.701677    86.586058     2.419043     2.685628   \n",
       "std       6.345968     0.093305    26.191172     0.533927     0.778039   \n",
       "min      14.000000     1.450000    39.000000     1.000000     1.000000   \n",
       "25%      19.947192     1.630000    65.473343     2.000000     2.658738   \n",
       "50%      22.777890     1.700499    83.000000     2.385502     3.000000   \n",
       "75%      26.000000     1.768464   107.430682     3.000000     3.000000   \n",
       "max      61.000000     1.980000   173.000000     3.000000     4.000000   \n",
       "\n",
       "              CH2O          FAF          TUE  \n",
       "count  2111.000000  2111.000000  2111.000000  \n",
       "mean      2.008011     1.010298     0.657866  \n",
       "std       0.612953     0.850592     0.608927  \n",
       "min       1.000000     0.000000     0.000000  \n",
       "25%       1.584812     0.124505     0.000000  \n",
       "50%       2.000000     1.000000     0.625350  \n",
       "75%       2.477420     1.666678     1.000000  \n",
       "max       3.000000     3.000000     2.000000  "
      ]
     },
     "execution_count": 8,
     "metadata": {},
     "output_type": "execute_result"
    }
   ],
   "source": [
    "dataset.describe()"
   ]
  },
  {
   "cell_type": "code",
   "execution_count": 9,
   "id": "8ef0f5fd",
   "metadata": {},
   "outputs": [
    {
     "name": "stdout",
     "output_type": "stream",
     "text": [
      "<class 'pandas.core.frame.DataFrame'>\n",
      "RangeIndex: 2111 entries, 0 to 2110\n",
      "Data columns (total 17 columns):\n",
      " #   Column                          Non-Null Count  Dtype  \n",
      "---  ------                          --------------  -----  \n",
      " 0   Gender                          2111 non-null   object \n",
      " 1   Age                             2111 non-null   float64\n",
      " 2   Height                          2111 non-null   float64\n",
      " 3   Weight                          2111 non-null   float64\n",
      " 4   family_history_with_overweight  2111 non-null   object \n",
      " 5   FAVC                            2111 non-null   object \n",
      " 6   FCVC                            2111 non-null   float64\n",
      " 7   NCP                             2111 non-null   float64\n",
      " 8   CAEC                            2111 non-null   object \n",
      " 9   SMOKE                           2111 non-null   object \n",
      " 10  CH2O                            2111 non-null   float64\n",
      " 11  SCC                             2111 non-null   object \n",
      " 12  FAF                             2111 non-null   float64\n",
      " 13  TUE                             2111 non-null   float64\n",
      " 14  CALC                            2111 non-null   object \n",
      " 15  MTRANS                          2111 non-null   object \n",
      " 16  NObeyesdad                      2111 non-null   object \n",
      "dtypes: float64(8), object(9)\n",
      "memory usage: 280.5+ KB\n"
     ]
    }
   ],
   "source": [
    "dataset.info()"
   ]
  },
  {
   "cell_type": "markdown",
   "id": "2ec53598",
   "metadata": {},
   "source": [
    "Data checks to perform:\n",
    "- Check Missing values\n",
    "- Check Duplicates\n",
    "- Check data type\n",
    "- Check the number of unique values of each column\n",
    "- Check statistics of data set\n",
    "- Check various categories present in the different categorical column"
   ]
  },
  {
   "cell_type": "code",
   "execution_count": 10,
   "id": "decc618d",
   "metadata": {},
   "outputs": [
    {
     "data": {
      "text/plain": [
       "Gender                            0\n",
       "Age                               0\n",
       "Height                            0\n",
       "Weight                            0\n",
       "family_history_with_overweight    0\n",
       "FAVC                              0\n",
       "FCVC                              0\n",
       "NCP                               0\n",
       "CAEC                              0\n",
       "SMOKE                             0\n",
       "CH2O                              0\n",
       "SCC                               0\n",
       "FAF                               0\n",
       "TUE                               0\n",
       "CALC                              0\n",
       "MTRANS                            0\n",
       "NObeyesdad                        0\n",
       "dtype: int64"
      ]
     },
     "execution_count": 10,
     "metadata": {},
     "output_type": "execute_result"
    }
   ],
   "source": [
    "##Checking for empty values\n",
    "dataset.isnull().sum()"
   ]
  },
  {
   "cell_type": "code",
   "execution_count": 11,
   "id": "1822476b",
   "metadata": {},
   "outputs": [
    {
     "data": {
      "text/plain": [
       "24"
      ]
     },
     "execution_count": 11,
     "metadata": {},
     "output_type": "execute_result"
    }
   ],
   "source": [
    "sum(dataset.duplicated()==True)"
   ]
  },
  {
   "cell_type": "code",
   "execution_count": 12,
   "id": "a985aa79",
   "metadata": {},
   "outputs": [],
   "source": [
    "##Duplicates\n",
    "dataset.loc[dataset.duplicated()==True,:]\n",
    "##25 rows are duplicated\n",
    "dataset_dedup=dataset.loc[dataset.duplicated()==False,:]"
   ]
  },
  {
   "cell_type": "code",
   "execution_count": 13,
   "id": "7a3618bc",
   "metadata": {},
   "outputs": [
    {
     "name": "stdout",
     "output_type": "stream",
     "text": [
      "<class 'pandas.core.frame.DataFrame'>\n",
      "Index: 2087 entries, 0 to 2110\n",
      "Data columns (total 17 columns):\n",
      " #   Column                          Non-Null Count  Dtype  \n",
      "---  ------                          --------------  -----  \n",
      " 0   Gender                          2087 non-null   object \n",
      " 1   Age                             2087 non-null   float64\n",
      " 2   Height                          2087 non-null   float64\n",
      " 3   Weight                          2087 non-null   float64\n",
      " 4   family_history_with_overweight  2087 non-null   object \n",
      " 5   FAVC                            2087 non-null   object \n",
      " 6   FCVC                            2087 non-null   float64\n",
      " 7   NCP                             2087 non-null   float64\n",
      " 8   CAEC                            2087 non-null   object \n",
      " 9   SMOKE                           2087 non-null   object \n",
      " 10  CH2O                            2087 non-null   float64\n",
      " 11  SCC                             2087 non-null   object \n",
      " 12  FAF                             2087 non-null   float64\n",
      " 13  TUE                             2087 non-null   float64\n",
      " 14  CALC                            2087 non-null   object \n",
      " 15  MTRANS                          2087 non-null   object \n",
      " 16  NObeyesdad                      2087 non-null   object \n",
      "dtypes: float64(8), object(9)\n",
      "memory usage: 293.5+ KB\n"
     ]
    }
   ],
   "source": [
    "dataset_dedup.info()"
   ]
  },
  {
   "cell_type": "code",
   "execution_count": 14,
   "id": "1bba9f16",
   "metadata": {},
   "outputs": [
    {
     "data": {
      "text/html": [
       "<div>\n",
       "<style scoped>\n",
       "    .dataframe tbody tr th:only-of-type {\n",
       "        vertical-align: middle;\n",
       "    }\n",
       "\n",
       "    .dataframe tbody tr th {\n",
       "        vertical-align: top;\n",
       "    }\n",
       "\n",
       "    .dataframe thead th {\n",
       "        text-align: right;\n",
       "    }\n",
       "</style>\n",
       "<table border=\"1\" class=\"dataframe\">\n",
       "  <thead>\n",
       "    <tr style=\"text-align: right;\">\n",
       "      <th></th>\n",
       "      <th>index</th>\n",
       "      <th>Gender</th>\n",
       "      <th>Age</th>\n",
       "      <th>Height</th>\n",
       "      <th>Weight</th>\n",
       "      <th>family_history_with_overweight</th>\n",
       "      <th>FAVC</th>\n",
       "      <th>FCVC</th>\n",
       "      <th>NCP</th>\n",
       "      <th>CAEC</th>\n",
       "      <th>SMOKE</th>\n",
       "      <th>CH2O</th>\n",
       "      <th>SCC</th>\n",
       "      <th>FAF</th>\n",
       "      <th>TUE</th>\n",
       "      <th>CALC</th>\n",
       "      <th>MTRANS</th>\n",
       "      <th>NObeyesdad</th>\n",
       "    </tr>\n",
       "  </thead>\n",
       "  <tbody>\n",
       "    <tr>\n",
       "      <th>0</th>\n",
       "      <td>0</td>\n",
       "      <td>Female</td>\n",
       "      <td>21.000000</td>\n",
       "      <td>1.620000</td>\n",
       "      <td>64.000000</td>\n",
       "      <td>yes</td>\n",
       "      <td>no</td>\n",
       "      <td>2.0</td>\n",
       "      <td>3.0</td>\n",
       "      <td>Sometimes</td>\n",
       "      <td>no</td>\n",
       "      <td>2.000000</td>\n",
       "      <td>no</td>\n",
       "      <td>0.000000</td>\n",
       "      <td>1.000000</td>\n",
       "      <td>no</td>\n",
       "      <td>Public_Transportation</td>\n",
       "      <td>Normal_Weight</td>\n",
       "    </tr>\n",
       "    <tr>\n",
       "      <th>1</th>\n",
       "      <td>1</td>\n",
       "      <td>Female</td>\n",
       "      <td>21.000000</td>\n",
       "      <td>1.520000</td>\n",
       "      <td>56.000000</td>\n",
       "      <td>yes</td>\n",
       "      <td>no</td>\n",
       "      <td>3.0</td>\n",
       "      <td>3.0</td>\n",
       "      <td>Sometimes</td>\n",
       "      <td>yes</td>\n",
       "      <td>3.000000</td>\n",
       "      <td>yes</td>\n",
       "      <td>3.000000</td>\n",
       "      <td>0.000000</td>\n",
       "      <td>Sometimes</td>\n",
       "      <td>Public_Transportation</td>\n",
       "      <td>Normal_Weight</td>\n",
       "    </tr>\n",
       "    <tr>\n",
       "      <th>2</th>\n",
       "      <td>2</td>\n",
       "      <td>Male</td>\n",
       "      <td>23.000000</td>\n",
       "      <td>1.800000</td>\n",
       "      <td>77.000000</td>\n",
       "      <td>yes</td>\n",
       "      <td>no</td>\n",
       "      <td>2.0</td>\n",
       "      <td>3.0</td>\n",
       "      <td>Sometimes</td>\n",
       "      <td>no</td>\n",
       "      <td>2.000000</td>\n",
       "      <td>no</td>\n",
       "      <td>2.000000</td>\n",
       "      <td>1.000000</td>\n",
       "      <td>Frequently</td>\n",
       "      <td>Public_Transportation</td>\n",
       "      <td>Normal_Weight</td>\n",
       "    </tr>\n",
       "    <tr>\n",
       "      <th>3</th>\n",
       "      <td>3</td>\n",
       "      <td>Male</td>\n",
       "      <td>27.000000</td>\n",
       "      <td>1.800000</td>\n",
       "      <td>87.000000</td>\n",
       "      <td>no</td>\n",
       "      <td>no</td>\n",
       "      <td>3.0</td>\n",
       "      <td>3.0</td>\n",
       "      <td>Sometimes</td>\n",
       "      <td>no</td>\n",
       "      <td>2.000000</td>\n",
       "      <td>no</td>\n",
       "      <td>2.000000</td>\n",
       "      <td>0.000000</td>\n",
       "      <td>Frequently</td>\n",
       "      <td>Walking</td>\n",
       "      <td>Overweight_Level_I</td>\n",
       "    </tr>\n",
       "    <tr>\n",
       "      <th>4</th>\n",
       "      <td>4</td>\n",
       "      <td>Male</td>\n",
       "      <td>22.000000</td>\n",
       "      <td>1.780000</td>\n",
       "      <td>89.800000</td>\n",
       "      <td>no</td>\n",
       "      <td>no</td>\n",
       "      <td>2.0</td>\n",
       "      <td>1.0</td>\n",
       "      <td>Sometimes</td>\n",
       "      <td>no</td>\n",
       "      <td>2.000000</td>\n",
       "      <td>no</td>\n",
       "      <td>0.000000</td>\n",
       "      <td>0.000000</td>\n",
       "      <td>Sometimes</td>\n",
       "      <td>Public_Transportation</td>\n",
       "      <td>Overweight_Level_II</td>\n",
       "    </tr>\n",
       "    <tr>\n",
       "      <th>...</th>\n",
       "      <td>...</td>\n",
       "      <td>...</td>\n",
       "      <td>...</td>\n",
       "      <td>...</td>\n",
       "      <td>...</td>\n",
       "      <td>...</td>\n",
       "      <td>...</td>\n",
       "      <td>...</td>\n",
       "      <td>...</td>\n",
       "      <td>...</td>\n",
       "      <td>...</td>\n",
       "      <td>...</td>\n",
       "      <td>...</td>\n",
       "      <td>...</td>\n",
       "      <td>...</td>\n",
       "      <td>...</td>\n",
       "      <td>...</td>\n",
       "      <td>...</td>\n",
       "    </tr>\n",
       "    <tr>\n",
       "      <th>2082</th>\n",
       "      <td>2106</td>\n",
       "      <td>Female</td>\n",
       "      <td>20.976842</td>\n",
       "      <td>1.710730</td>\n",
       "      <td>131.408528</td>\n",
       "      <td>yes</td>\n",
       "      <td>yes</td>\n",
       "      <td>3.0</td>\n",
       "      <td>3.0</td>\n",
       "      <td>Sometimes</td>\n",
       "      <td>no</td>\n",
       "      <td>1.728139</td>\n",
       "      <td>no</td>\n",
       "      <td>1.676269</td>\n",
       "      <td>0.906247</td>\n",
       "      <td>Sometimes</td>\n",
       "      <td>Public_Transportation</td>\n",
       "      <td>Obesity_Type_III</td>\n",
       "    </tr>\n",
       "    <tr>\n",
       "      <th>2083</th>\n",
       "      <td>2107</td>\n",
       "      <td>Female</td>\n",
       "      <td>21.982942</td>\n",
       "      <td>1.748584</td>\n",
       "      <td>133.742943</td>\n",
       "      <td>yes</td>\n",
       "      <td>yes</td>\n",
       "      <td>3.0</td>\n",
       "      <td>3.0</td>\n",
       "      <td>Sometimes</td>\n",
       "      <td>no</td>\n",
       "      <td>2.005130</td>\n",
       "      <td>no</td>\n",
       "      <td>1.341390</td>\n",
       "      <td>0.599270</td>\n",
       "      <td>Sometimes</td>\n",
       "      <td>Public_Transportation</td>\n",
       "      <td>Obesity_Type_III</td>\n",
       "    </tr>\n",
       "    <tr>\n",
       "      <th>2084</th>\n",
       "      <td>2108</td>\n",
       "      <td>Female</td>\n",
       "      <td>22.524036</td>\n",
       "      <td>1.752206</td>\n",
       "      <td>133.689352</td>\n",
       "      <td>yes</td>\n",
       "      <td>yes</td>\n",
       "      <td>3.0</td>\n",
       "      <td>3.0</td>\n",
       "      <td>Sometimes</td>\n",
       "      <td>no</td>\n",
       "      <td>2.054193</td>\n",
       "      <td>no</td>\n",
       "      <td>1.414209</td>\n",
       "      <td>0.646288</td>\n",
       "      <td>Sometimes</td>\n",
       "      <td>Public_Transportation</td>\n",
       "      <td>Obesity_Type_III</td>\n",
       "    </tr>\n",
       "    <tr>\n",
       "      <th>2085</th>\n",
       "      <td>2109</td>\n",
       "      <td>Female</td>\n",
       "      <td>24.361936</td>\n",
       "      <td>1.739450</td>\n",
       "      <td>133.346641</td>\n",
       "      <td>yes</td>\n",
       "      <td>yes</td>\n",
       "      <td>3.0</td>\n",
       "      <td>3.0</td>\n",
       "      <td>Sometimes</td>\n",
       "      <td>no</td>\n",
       "      <td>2.852339</td>\n",
       "      <td>no</td>\n",
       "      <td>1.139107</td>\n",
       "      <td>0.586035</td>\n",
       "      <td>Sometimes</td>\n",
       "      <td>Public_Transportation</td>\n",
       "      <td>Obesity_Type_III</td>\n",
       "    </tr>\n",
       "    <tr>\n",
       "      <th>2086</th>\n",
       "      <td>2110</td>\n",
       "      <td>Female</td>\n",
       "      <td>23.664709</td>\n",
       "      <td>1.738836</td>\n",
       "      <td>133.472641</td>\n",
       "      <td>yes</td>\n",
       "      <td>yes</td>\n",
       "      <td>3.0</td>\n",
       "      <td>3.0</td>\n",
       "      <td>Sometimes</td>\n",
       "      <td>no</td>\n",
       "      <td>2.863513</td>\n",
       "      <td>no</td>\n",
       "      <td>1.026452</td>\n",
       "      <td>0.714137</td>\n",
       "      <td>Sometimes</td>\n",
       "      <td>Public_Transportation</td>\n",
       "      <td>Obesity_Type_III</td>\n",
       "    </tr>\n",
       "  </tbody>\n",
       "</table>\n",
       "<p>2087 rows × 18 columns</p>\n",
       "</div>"
      ],
      "text/plain": [
       "      index  Gender        Age    Height      Weight  \\\n",
       "0         0  Female  21.000000  1.620000   64.000000   \n",
       "1         1  Female  21.000000  1.520000   56.000000   \n",
       "2         2    Male  23.000000  1.800000   77.000000   \n",
       "3         3    Male  27.000000  1.800000   87.000000   \n",
       "4         4    Male  22.000000  1.780000   89.800000   \n",
       "...     ...     ...        ...       ...         ...   \n",
       "2082   2106  Female  20.976842  1.710730  131.408528   \n",
       "2083   2107  Female  21.982942  1.748584  133.742943   \n",
       "2084   2108  Female  22.524036  1.752206  133.689352   \n",
       "2085   2109  Female  24.361936  1.739450  133.346641   \n",
       "2086   2110  Female  23.664709  1.738836  133.472641   \n",
       "\n",
       "     family_history_with_overweight FAVC  FCVC  NCP       CAEC SMOKE  \\\n",
       "0                               yes   no   2.0  3.0  Sometimes    no   \n",
       "1                               yes   no   3.0  3.0  Sometimes   yes   \n",
       "2                               yes   no   2.0  3.0  Sometimes    no   \n",
       "3                                no   no   3.0  3.0  Sometimes    no   \n",
       "4                                no   no   2.0  1.0  Sometimes    no   \n",
       "...                             ...  ...   ...  ...        ...   ...   \n",
       "2082                            yes  yes   3.0  3.0  Sometimes    no   \n",
       "2083                            yes  yes   3.0  3.0  Sometimes    no   \n",
       "2084                            yes  yes   3.0  3.0  Sometimes    no   \n",
       "2085                            yes  yes   3.0  3.0  Sometimes    no   \n",
       "2086                            yes  yes   3.0  3.0  Sometimes    no   \n",
       "\n",
       "          CH2O  SCC       FAF       TUE        CALC                 MTRANS  \\\n",
       "0     2.000000   no  0.000000  1.000000          no  Public_Transportation   \n",
       "1     3.000000  yes  3.000000  0.000000   Sometimes  Public_Transportation   \n",
       "2     2.000000   no  2.000000  1.000000  Frequently  Public_Transportation   \n",
       "3     2.000000   no  2.000000  0.000000  Frequently                Walking   \n",
       "4     2.000000   no  0.000000  0.000000   Sometimes  Public_Transportation   \n",
       "...        ...  ...       ...       ...         ...                    ...   \n",
       "2082  1.728139   no  1.676269  0.906247   Sometimes  Public_Transportation   \n",
       "2083  2.005130   no  1.341390  0.599270   Sometimes  Public_Transportation   \n",
       "2084  2.054193   no  1.414209  0.646288   Sometimes  Public_Transportation   \n",
       "2085  2.852339   no  1.139107  0.586035   Sometimes  Public_Transportation   \n",
       "2086  2.863513   no  1.026452  0.714137   Sometimes  Public_Transportation   \n",
       "\n",
       "               NObeyesdad  \n",
       "0           Normal_Weight  \n",
       "1           Normal_Weight  \n",
       "2           Normal_Weight  \n",
       "3      Overweight_Level_I  \n",
       "4     Overweight_Level_II  \n",
       "...                   ...  \n",
       "2082     Obesity_Type_III  \n",
       "2083     Obesity_Type_III  \n",
       "2084     Obesity_Type_III  \n",
       "2085     Obesity_Type_III  \n",
       "2086     Obesity_Type_III  \n",
       "\n",
       "[2087 rows x 18 columns]"
      ]
     },
     "execution_count": 14,
     "metadata": {},
     "output_type": "execute_result"
    }
   ],
   "source": [
    "dataset_dedup.reset_index()"
   ]
  },
  {
   "cell_type": "code",
   "execution_count": 15,
   "id": "df04d760",
   "metadata": {},
   "outputs": [
    {
     "data": {
      "text/plain": [
       "Gender                               2\n",
       "Age                               1402\n",
       "Height                            1574\n",
       "Weight                            1525\n",
       "family_history_with_overweight       2\n",
       "FAVC                                 2\n",
       "FCVC                               810\n",
       "NCP                                635\n",
       "CAEC                                 4\n",
       "SMOKE                                2\n",
       "CH2O                              1268\n",
       "SCC                                  2\n",
       "FAF                               1190\n",
       "TUE                               1129\n",
       "CALC                                 4\n",
       "MTRANS                               5\n",
       "NObeyesdad                           7\n",
       "dtype: int64"
      ]
     },
     "execution_count": 15,
     "metadata": {},
     "output_type": "execute_result"
    }
   ],
   "source": [
    "dataset_dedup.nunique()"
   ]
  },
  {
   "cell_type": "code",
   "execution_count": 16,
   "id": "dedc6814",
   "metadata": {},
   "outputs": [
    {
     "data": {
      "text/html": [
       "<div>\n",
       "<style scoped>\n",
       "    .dataframe tbody tr th:only-of-type {\n",
       "        vertical-align: middle;\n",
       "    }\n",
       "\n",
       "    .dataframe tbody tr th {\n",
       "        vertical-align: top;\n",
       "    }\n",
       "\n",
       "    .dataframe thead th {\n",
       "        text-align: right;\n",
       "    }\n",
       "</style>\n",
       "<table border=\"1\" class=\"dataframe\">\n",
       "  <thead>\n",
       "    <tr style=\"text-align: right;\">\n",
       "      <th></th>\n",
       "      <th>Age</th>\n",
       "      <th>Height</th>\n",
       "      <th>Weight</th>\n",
       "      <th>FCVC</th>\n",
       "      <th>NCP</th>\n",
       "      <th>CH2O</th>\n",
       "      <th>FAF</th>\n",
       "      <th>TUE</th>\n",
       "    </tr>\n",
       "  </thead>\n",
       "  <tbody>\n",
       "    <tr>\n",
       "      <th>count</th>\n",
       "      <td>2087.000000</td>\n",
       "      <td>2087.000000</td>\n",
       "      <td>2087.000000</td>\n",
       "      <td>2087.000000</td>\n",
       "      <td>2087.000000</td>\n",
       "      <td>2087.000000</td>\n",
       "      <td>2087.000000</td>\n",
       "      <td>2087.000000</td>\n",
       "    </tr>\n",
       "    <tr>\n",
       "      <th>mean</th>\n",
       "      <td>24.353090</td>\n",
       "      <td>1.702674</td>\n",
       "      <td>86.858730</td>\n",
       "      <td>2.421466</td>\n",
       "      <td>2.701179</td>\n",
       "      <td>2.004749</td>\n",
       "      <td>1.012812</td>\n",
       "      <td>0.663035</td>\n",
       "    </tr>\n",
       "    <tr>\n",
       "      <th>std</th>\n",
       "      <td>6.368801</td>\n",
       "      <td>0.093186</td>\n",
       "      <td>26.190847</td>\n",
       "      <td>0.534737</td>\n",
       "      <td>0.764614</td>\n",
       "      <td>0.608284</td>\n",
       "      <td>0.853475</td>\n",
       "      <td>0.608153</td>\n",
       "    </tr>\n",
       "    <tr>\n",
       "      <th>min</th>\n",
       "      <td>14.000000</td>\n",
       "      <td>1.450000</td>\n",
       "      <td>39.000000</td>\n",
       "      <td>1.000000</td>\n",
       "      <td>1.000000</td>\n",
       "      <td>1.000000</td>\n",
       "      <td>0.000000</td>\n",
       "      <td>0.000000</td>\n",
       "    </tr>\n",
       "    <tr>\n",
       "      <th>25%</th>\n",
       "      <td>19.915937</td>\n",
       "      <td>1.630178</td>\n",
       "      <td>66.000000</td>\n",
       "      <td>2.000000</td>\n",
       "      <td>2.697467</td>\n",
       "      <td>1.590922</td>\n",
       "      <td>0.124505</td>\n",
       "      <td>0.000000</td>\n",
       "    </tr>\n",
       "    <tr>\n",
       "      <th>50%</th>\n",
       "      <td>22.847618</td>\n",
       "      <td>1.701584</td>\n",
       "      <td>83.101100</td>\n",
       "      <td>2.396265</td>\n",
       "      <td>3.000000</td>\n",
       "      <td>2.000000</td>\n",
       "      <td>1.000000</td>\n",
       "      <td>0.630866</td>\n",
       "    </tr>\n",
       "    <tr>\n",
       "      <th>75%</th>\n",
       "      <td>26.000000</td>\n",
       "      <td>1.769491</td>\n",
       "      <td>108.015907</td>\n",
       "      <td>3.000000</td>\n",
       "      <td>3.000000</td>\n",
       "      <td>2.466193</td>\n",
       "      <td>1.678102</td>\n",
       "      <td>1.000000</td>\n",
       "    </tr>\n",
       "    <tr>\n",
       "      <th>max</th>\n",
       "      <td>61.000000</td>\n",
       "      <td>1.980000</td>\n",
       "      <td>173.000000</td>\n",
       "      <td>3.000000</td>\n",
       "      <td>4.000000</td>\n",
       "      <td>3.000000</td>\n",
       "      <td>3.000000</td>\n",
       "      <td>2.000000</td>\n",
       "    </tr>\n",
       "  </tbody>\n",
       "</table>\n",
       "</div>"
      ],
      "text/plain": [
       "               Age       Height       Weight         FCVC          NCP  \\\n",
       "count  2087.000000  2087.000000  2087.000000  2087.000000  2087.000000   \n",
       "mean     24.353090     1.702674    86.858730     2.421466     2.701179   \n",
       "std       6.368801     0.093186    26.190847     0.534737     0.764614   \n",
       "min      14.000000     1.450000    39.000000     1.000000     1.000000   \n",
       "25%      19.915937     1.630178    66.000000     2.000000     2.697467   \n",
       "50%      22.847618     1.701584    83.101100     2.396265     3.000000   \n",
       "75%      26.000000     1.769491   108.015907     3.000000     3.000000   \n",
       "max      61.000000     1.980000   173.000000     3.000000     4.000000   \n",
       "\n",
       "              CH2O          FAF          TUE  \n",
       "count  2087.000000  2087.000000  2087.000000  \n",
       "mean      2.004749     1.012812     0.663035  \n",
       "std       0.608284     0.853475     0.608153  \n",
       "min       1.000000     0.000000     0.000000  \n",
       "25%       1.590922     0.124505     0.000000  \n",
       "50%       2.000000     1.000000     0.630866  \n",
       "75%       2.466193     1.678102     1.000000  \n",
       "max       3.000000     3.000000     2.000000  "
      ]
     },
     "execution_count": 16,
     "metadata": {},
     "output_type": "execute_result"
    }
   ],
   "source": [
    "dataset_dedup.describe()"
   ]
  },
  {
   "cell_type": "code",
   "execution_count": 17,
   "id": "a780d7ef",
   "metadata": {},
   "outputs": [
    {
     "data": {
      "image/png": "[encoded data removed]",
      "text/plain": [
       "<Figure size 640x480 with 1 Axes>"
      ]
     },
     "metadata": {},
     "output_type": "display_data"
    }
   ],
   "source": [
    "##gender vs nobeyesdad\n",
    "#fig, axs=plt.subplots(1,2,figsize=(15,7))\n",
    "#lt.subplot(121)\n",
    "count_obesclass = dataset_dedup.groupby(['NObeyesdad', 'SMOKE']).size().reset_index(name='Count')\n",
    "##plt.figure(figsize=(100,100))\n",
    "sns.barplot(y='Count',x='NObeyesdad',hue='SMOKE',data=count_obesclass)\n",
    "plt.ylabel('Count')\n",
    "plt.xlabel('NObeyesdad')\n",
    "plt.xticks(rotation=45, ha='right')\n",
    "plt.tight_layout()\n",
    "plt.show()\n"
   ]
  },
  {
   "cell_type": "code",
   "execution_count": 18,
   "id": "51c03bd4",
   "metadata": {},
   "outputs": [
    {
     "data": {
      "image/png": "[encoded data removed]",
      "text/plain": [
       "<Figure size 640x480 with 1 Axes>"
      ]
     },
     "metadata": {},
     "output_type": "display_data"
    }
   ],
   "source": [
    "##gender vs nobeyesdad\n",
    "#fig, axs=plt.subplots(1,2,figsize=(15,7))\n",
    "#lt.subplot(121)\n",
    "count_obesclass = dataset_dedup.groupby(['NObeyesdad', 'SCC']).size().reset_index(name='Count')\n",
    "##plt.figure(figsize=(100,100))\n",
    "sns.barplot(y='Count',x='NObeyesdad',hue='SCC',data=count_obesclass)\n",
    "plt.ylabel('Count')\n",
    "plt.xlabel('NObeyesdad')\n",
    "plt.xticks(rotation=45, ha='right')\n",
    "plt.tight_layout()\n",
    "plt.show()\n"
   ]
  },
  {
   "cell_type": "markdown",
   "id": "9d889fca",
   "metadata": {},
   "source": [
    "More females are affected by tpyeIII obesity and males have more typeII obesity"
   ]
  },
  {
   "cell_type": "code",
   "execution_count": 19,
   "id": "b21e55e9",
   "metadata": {},
   "outputs": [
    {
     "data": {
      "image/png": "[encoded data removed]",
      "text/plain": [
       "<Figure size 640x480 with 1 Axes>"
      ]
     },
     "metadata": {},
     "output_type": "display_data"
    }
   ],
   "source": [
    "\n",
    "##age vs\n",
    "sns.barplot(y='Age',x='NObeyesdad',hue='Gender',data=dataset_dedup)\n",
    "plt.xlabel('NObeyesdad')\n",
    "plt.ylabel('Age')\n",
    "plt.xticks(rotation=45, ha='right')\n",
    "plt.tight_layout()\n",
    "##weightvs\n",
    "##height vs\n",
    "##familyhistory vs"
   ]
  },
  {
   "cell_type": "code",
   "execution_count": 20,
   "id": "b22231ec",
   "metadata": {},
   "outputs": [
    {
     "data": {
      "text/plain": [
       "Index(['Gender', 'family_history_with_overweight', 'FAVC', 'CAEC', 'SMOKE',\n",
       "       'SCC', 'CALC', 'MTRANS', 'NObeyesdad'],\n",
       "      dtype='object')"
      ]
     },
     "execution_count": 20,
     "metadata": {},
     "output_type": "execute_result"
    }
   ],
   "source": [
    "dataset_dedup.select_dtypes(exclude=np.number).columns"
   ]
  },
  {
   "cell_type": "code",
   "execution_count": 21,
   "id": "c72c4e81",
   "metadata": {},
   "outputs": [],
   "source": [
    "dataset_final=pd.get_dummies(dataset_dedup,columns=['Gender', 'family_history_with_overweight', 'FAVC', 'CAEC', 'SMOKE',\n",
    "       'SCC', 'CALC', 'MTRANS'],dtype=float)"
   ]
  },
  {
   "cell_type": "code",
   "execution_count": 22,
   "id": "8f5aaab5",
   "metadata": {},
   "outputs": [
    {
     "data": {
      "text/html": [
       "<div>\n",
       "<style scoped>\n",
       "    .dataframe tbody tr th:only-of-type {\n",
       "        vertical-align: middle;\n",
       "    }\n",
       "\n",
       "    .dataframe tbody tr th {\n",
       "        vertical-align: top;\n",
       "    }\n",
       "\n",
       "    .dataframe thead th {\n",
       "        text-align: right;\n",
       "    }\n",
       "</style>\n",
       "<table border=\"1\" class=\"dataframe\">\n",
       "  <thead>\n",
       "    <tr style=\"text-align: right;\">\n",
       "      <th></th>\n",
       "      <th>Age</th>\n",
       "      <th>Height</th>\n",
       "      <th>Weight</th>\n",
       "      <th>FCVC</th>\n",
       "      <th>NCP</th>\n",
       "      <th>CH2O</th>\n",
       "      <th>FAF</th>\n",
       "      <th>TUE</th>\n",
       "      <th>NObeyesdad</th>\n",
       "      <th>Gender_Female</th>\n",
       "      <th>...</th>\n",
       "      <th>SCC_yes</th>\n",
       "      <th>CALC_Always</th>\n",
       "      <th>CALC_Frequently</th>\n",
       "      <th>CALC_Sometimes</th>\n",
       "      <th>CALC_no</th>\n",
       "      <th>MTRANS_Automobile</th>\n",
       "      <th>MTRANS_Bike</th>\n",
       "      <th>MTRANS_Motorbike</th>\n",
       "      <th>MTRANS_Public_Transportation</th>\n",
       "      <th>MTRANS_Walking</th>\n",
       "    </tr>\n",
       "  </thead>\n",
       "  <tbody>\n",
       "    <tr>\n",
       "      <th>0</th>\n",
       "      <td>21.0</td>\n",
       "      <td>1.62</td>\n",
       "      <td>64.0</td>\n",
       "      <td>2.0</td>\n",
       "      <td>3.0</td>\n",
       "      <td>2.0</td>\n",
       "      <td>0.0</td>\n",
       "      <td>1.0</td>\n",
       "      <td>Normal_Weight</td>\n",
       "      <td>1.0</td>\n",
       "      <td>...</td>\n",
       "      <td>0.0</td>\n",
       "      <td>0.0</td>\n",
       "      <td>0.0</td>\n",
       "      <td>0.0</td>\n",
       "      <td>1.0</td>\n",
       "      <td>0.0</td>\n",
       "      <td>0.0</td>\n",
       "      <td>0.0</td>\n",
       "      <td>1.0</td>\n",
       "      <td>0.0</td>\n",
       "    </tr>\n",
       "    <tr>\n",
       "      <th>1</th>\n",
       "      <td>21.0</td>\n",
       "      <td>1.52</td>\n",
       "      <td>56.0</td>\n",
       "      <td>3.0</td>\n",
       "      <td>3.0</td>\n",
       "      <td>3.0</td>\n",
       "      <td>3.0</td>\n",
       "      <td>0.0</td>\n",
       "      <td>Normal_Weight</td>\n",
       "      <td>1.0</td>\n",
       "      <td>...</td>\n",
       "      <td>1.0</td>\n",
       "      <td>0.0</td>\n",
       "      <td>0.0</td>\n",
       "      <td>1.0</td>\n",
       "      <td>0.0</td>\n",
       "      <td>0.0</td>\n",
       "      <td>0.0</td>\n",
       "      <td>0.0</td>\n",
       "      <td>1.0</td>\n",
       "      <td>0.0</td>\n",
       "    </tr>\n",
       "    <tr>\n",
       "      <th>2</th>\n",
       "      <td>23.0</td>\n",
       "      <td>1.80</td>\n",
       "      <td>77.0</td>\n",
       "      <td>2.0</td>\n",
       "      <td>3.0</td>\n",
       "      <td>2.0</td>\n",
       "      <td>2.0</td>\n",
       "      <td>1.0</td>\n",
       "      <td>Normal_Weight</td>\n",
       "      <td>0.0</td>\n",
       "      <td>...</td>\n",
       "      <td>0.0</td>\n",
       "      <td>0.0</td>\n",
       "      <td>1.0</td>\n",
       "      <td>0.0</td>\n",
       "      <td>0.0</td>\n",
       "      <td>0.0</td>\n",
       "      <td>0.0</td>\n",
       "      <td>0.0</td>\n",
       "      <td>1.0</td>\n",
       "      <td>0.0</td>\n",
       "    </tr>\n",
       "    <tr>\n",
       "      <th>3</th>\n",
       "      <td>27.0</td>\n",
       "      <td>1.80</td>\n",
       "      <td>87.0</td>\n",
       "      <td>3.0</td>\n",
       "      <td>3.0</td>\n",
       "      <td>2.0</td>\n",
       "      <td>2.0</td>\n",
       "      <td>0.0</td>\n",
       "      <td>Overweight_Level_I</td>\n",
       "      <td>0.0</td>\n",
       "      <td>...</td>\n",
       "      <td>0.0</td>\n",
       "      <td>0.0</td>\n",
       "      <td>1.0</td>\n",
       "      <td>0.0</td>\n",
       "      <td>0.0</td>\n",
       "      <td>0.0</td>\n",
       "      <td>0.0</td>\n",
       "      <td>0.0</td>\n",
       "      <td>0.0</td>\n",
       "      <td>1.0</td>\n",
       "    </tr>\n",
       "    <tr>\n",
       "      <th>4</th>\n",
       "      <td>22.0</td>\n",
       "      <td>1.78</td>\n",
       "      <td>89.8</td>\n",
       "      <td>2.0</td>\n",
       "      <td>1.0</td>\n",
       "      <td>2.0</td>\n",
       "      <td>0.0</td>\n",
       "      <td>0.0</td>\n",
       "      <td>Overweight_Level_II</td>\n",
       "      <td>0.0</td>\n",
       "      <td>...</td>\n",
       "      <td>0.0</td>\n",
       "      <td>0.0</td>\n",
       "      <td>0.0</td>\n",
       "      <td>1.0</td>\n",
       "      <td>0.0</td>\n",
       "      <td>0.0</td>\n",
       "      <td>0.0</td>\n",
       "      <td>0.0</td>\n",
       "      <td>1.0</td>\n",
       "      <td>0.0</td>\n",
       "    </tr>\n",
       "  </tbody>\n",
       "</table>\n",
       "<p>5 rows × 32 columns</p>\n",
       "</div>"
      ],
      "text/plain": [
       "    Age  Height  Weight  FCVC  NCP  CH2O  FAF  TUE           NObeyesdad  \\\n",
       "0  21.0    1.62    64.0   2.0  3.0   2.0  0.0  1.0        Normal_Weight   \n",
       "1  21.0    1.52    56.0   3.0  3.0   3.0  3.0  0.0        Normal_Weight   \n",
       "2  23.0    1.80    77.0   2.0  3.0   2.0  2.0  1.0        Normal_Weight   \n",
       "3  27.0    1.80    87.0   3.0  3.0   2.0  2.0  0.0   Overweight_Level_I   \n",
       "4  22.0    1.78    89.8   2.0  1.0   2.0  0.0  0.0  Overweight_Level_II   \n",
       "\n",
       "   Gender_Female  ...  SCC_yes  CALC_Always  CALC_Frequently  CALC_Sometimes  \\\n",
       "0            1.0  ...      0.0          0.0              0.0             0.0   \n",
       "1            1.0  ...      1.0          0.0              0.0             1.0   \n",
       "2            0.0  ...      0.0          0.0              1.0             0.0   \n",
       "3            0.0  ...      0.0          0.0              1.0             0.0   \n",
       "4            0.0  ...      0.0          0.0              0.0             1.0   \n",
       "\n",
       "   CALC_no  MTRANS_Automobile  MTRANS_Bike  MTRANS_Motorbike  \\\n",
       "0      1.0                0.0          0.0               0.0   \n",
       "1      0.0                0.0          0.0               0.0   \n",
       "2      0.0                0.0          0.0               0.0   \n",
       "3      0.0                0.0          0.0               0.0   \n",
       "4      0.0                0.0          0.0               0.0   \n",
       "\n",
       "   MTRANS_Public_Transportation  MTRANS_Walking  \n",
       "0                           1.0             0.0  \n",
       "1                           1.0             0.0  \n",
       "2                           1.0             0.0  \n",
       "3                           0.0             1.0  \n",
       "4                           1.0             0.0  \n",
       "\n",
       "[5 rows x 32 columns]"
      ]
     },
     "execution_count": 22,
     "metadata": {},
     "output_type": "execute_result"
    }
   ],
   "source": [
    "dataset_final.head()"
   ]
  },
  {
   "cell_type": "code",
   "execution_count": 23,
   "id": "f1c392ac",
   "metadata": {},
   "outputs": [
    {
     "data": {
      "text/plain": [
       "<Axes: >"
      ]
     },
     "execution_count": 23,
     "metadata": {},
     "output_type": "execute_result"
    },
    {
     "data": {
      "image/png": "[encoded data removed]",
      "text/plain": [
       "<Figure size 640x480 with 2 Axes>"
      ]
     },
     "metadata": {},
     "output_type": "display_data"
    }
   ],
   "source": [
    "sns.heatmap(dataset_dedup.select_dtypes(include=np.number))"
   ]
  },
  {
   "cell_type": "code",
   "execution_count": null,
   "id": "0be8679e",
   "metadata": {},
   "outputs": [],
   "source": []
  },
  {
   "cell_type": "code",
   "execution_count": null,
   "id": "098304f5",
   "metadata": {},
   "outputs": [],
   "source": []
  },
  {
   "cell_type": "code",
   "execution_count": 24,
   "id": "ea6ed727",
   "metadata": {},
   "outputs": [
    {
     "data": {
      "text/plain": [
       "Index(['Age', 'Height', 'Weight', 'FCVC', 'NCP', 'CH2O', 'FAF', 'TUE',\n",
       "       'NObeyesdad', 'Gender_Female', 'Gender_Male',\n",
       "       'family_history_with_overweight_no',\n",
       "       'family_history_with_overweight_yes', 'FAVC_no', 'FAVC_yes',\n",
       "       'CAEC_Always', 'CAEC_Frequently', 'CAEC_Sometimes', 'CAEC_no',\n",
       "       'SMOKE_no', 'SMOKE_yes', 'SCC_no', 'SCC_yes', 'CALC_Always',\n",
       "       'CALC_Frequently', 'CALC_Sometimes', 'CALC_no', 'MTRANS_Automobile',\n",
       "       'MTRANS_Bike', 'MTRANS_Motorbike', 'MTRANS_Public_Transportation',\n",
       "       'MTRANS_Walking'],\n",
       "      dtype='object')"
      ]
     },
     "execution_count": 24,
     "metadata": {},
     "output_type": "execute_result"
    }
   ],
   "source": [
    "dataset_final.columns"
   ]
  },
  {
   "cell_type": "code",
   "execution_count": 25,
   "id": "d06d04da",
   "metadata": {},
   "outputs": [],
   "source": [
    "dataset_final['MTRANS_two_wheeler']=dataset_final['MTRANS_Motorbike']+dataset_final['MTRANS_Bike']"
   ]
  },
  {
   "cell_type": "code",
   "execution_count": 26,
   "id": "f327bb51",
   "metadata": {},
   "outputs": [
    {
     "data": {
      "text/plain": [
       "2069"
      ]
     },
     "execution_count": 26,
     "metadata": {},
     "output_type": "execute_result"
    }
   ],
   "source": [
    "sum(dataset_final[\"MTRANS_two_wheeler\"]==0)"
   ]
  },
  {
   "cell_type": "code",
   "execution_count": 27,
   "id": "6c17c9b6",
   "metadata": {},
   "outputs": [
    {
     "data": {
      "text/html": [
       "<div>\n",
       "<style scoped>\n",
       "    .dataframe tbody tr th:only-of-type {\n",
       "        vertical-align: middle;\n",
       "    }\n",
       "\n",
       "    .dataframe tbody tr th {\n",
       "        vertical-align: top;\n",
       "    }\n",
       "\n",
       "    .dataframe thead th {\n",
       "        text-align: right;\n",
       "    }\n",
       "</style>\n",
       "<table border=\"1\" class=\"dataframe\">\n",
       "  <thead>\n",
       "    <tr style=\"text-align: right;\">\n",
       "      <th></th>\n",
       "      <th>MTRANS_Motorbike</th>\n",
       "      <th>MTRANS_Bike</th>\n",
       "      <th>MTRANS_two_wheeler</th>\n",
       "    </tr>\n",
       "  </thead>\n",
       "  <tbody>\n",
       "    <tr>\n",
       "      <th>6</th>\n",
       "      <td>1.0</td>\n",
       "      <td>0.0</td>\n",
       "      <td>1.0</td>\n",
       "    </tr>\n",
       "    <tr>\n",
       "      <th>30</th>\n",
       "      <td>1.0</td>\n",
       "      <td>0.0</td>\n",
       "      <td>1.0</td>\n",
       "    </tr>\n",
       "    <tr>\n",
       "      <th>73</th>\n",
       "      <td>0.0</td>\n",
       "      <td>1.0</td>\n",
       "      <td>1.0</td>\n",
       "    </tr>\n",
       "    <tr>\n",
       "      <th>137</th>\n",
       "      <td>1.0</td>\n",
       "      <td>0.0</td>\n",
       "      <td>1.0</td>\n",
       "    </tr>\n",
       "    <tr>\n",
       "      <th>138</th>\n",
       "      <td>0.0</td>\n",
       "      <td>1.0</td>\n",
       "      <td>1.0</td>\n",
       "    </tr>\n",
       "    <tr>\n",
       "      <th>196</th>\n",
       "      <td>0.0</td>\n",
       "      <td>1.0</td>\n",
       "      <td>1.0</td>\n",
       "    </tr>\n",
       "    <tr>\n",
       "      <th>197</th>\n",
       "      <td>0.0</td>\n",
       "      <td>1.0</td>\n",
       "      <td>1.0</td>\n",
       "    </tr>\n",
       "    <tr>\n",
       "      <th>241</th>\n",
       "      <td>0.0</td>\n",
       "      <td>1.0</td>\n",
       "      <td>1.0</td>\n",
       "    </tr>\n",
       "    <tr>\n",
       "      <th>255</th>\n",
       "      <td>0.0</td>\n",
       "      <td>1.0</td>\n",
       "      <td>1.0</td>\n",
       "    </tr>\n",
       "    <tr>\n",
       "      <th>273</th>\n",
       "      <td>1.0</td>\n",
       "      <td>0.0</td>\n",
       "      <td>1.0</td>\n",
       "    </tr>\n",
       "    <tr>\n",
       "      <th>365</th>\n",
       "      <td>1.0</td>\n",
       "      <td>0.0</td>\n",
       "      <td>1.0</td>\n",
       "    </tr>\n",
       "    <tr>\n",
       "      <th>380</th>\n",
       "      <td>1.0</td>\n",
       "      <td>0.0</td>\n",
       "      <td>1.0</td>\n",
       "    </tr>\n",
       "    <tr>\n",
       "      <th>387</th>\n",
       "      <td>1.0</td>\n",
       "      <td>0.0</td>\n",
       "      <td>1.0</td>\n",
       "    </tr>\n",
       "    <tr>\n",
       "      <th>399</th>\n",
       "      <td>1.0</td>\n",
       "      <td>0.0</td>\n",
       "      <td>1.0</td>\n",
       "    </tr>\n",
       "    <tr>\n",
       "      <th>422</th>\n",
       "      <td>0.0</td>\n",
       "      <td>1.0</td>\n",
       "      <td>1.0</td>\n",
       "    </tr>\n",
       "    <tr>\n",
       "      <th>487</th>\n",
       "      <td>1.0</td>\n",
       "      <td>0.0</td>\n",
       "      <td>1.0</td>\n",
       "    </tr>\n",
       "    <tr>\n",
       "      <th>493</th>\n",
       "      <td>1.0</td>\n",
       "      <td>0.0</td>\n",
       "      <td>1.0</td>\n",
       "    </tr>\n",
       "    <tr>\n",
       "      <th>495</th>\n",
       "      <td>1.0</td>\n",
       "      <td>0.0</td>\n",
       "      <td>1.0</td>\n",
       "    </tr>\n",
       "  </tbody>\n",
       "</table>\n",
       "</div>"
      ],
      "text/plain": [
       "     MTRANS_Motorbike  MTRANS_Bike  MTRANS_two_wheeler\n",
       "6                 1.0          0.0                 1.0\n",
       "30                1.0          0.0                 1.0\n",
       "73                0.0          1.0                 1.0\n",
       "137               1.0          0.0                 1.0\n",
       "138               0.0          1.0                 1.0\n",
       "196               0.0          1.0                 1.0\n",
       "197               0.0          1.0                 1.0\n",
       "241               0.0          1.0                 1.0\n",
       "255               0.0          1.0                 1.0\n",
       "273               1.0          0.0                 1.0\n",
       "365               1.0          0.0                 1.0\n",
       "380               1.0          0.0                 1.0\n",
       "387               1.0          0.0                 1.0\n",
       "399               1.0          0.0                 1.0\n",
       "422               0.0          1.0                 1.0\n",
       "487               1.0          0.0                 1.0\n",
       "493               1.0          0.0                 1.0\n",
       "495               1.0          0.0                 1.0"
      ]
     },
     "execution_count": 27,
     "metadata": {},
     "output_type": "execute_result"
    }
   ],
   "source": [
    "dataset_final.loc[dataset_final[\"MTRANS_two_wheeler\"]==1.0,[\"MTRANS_Motorbike\",\"MTRANS_Bike\",\"MTRANS_two_wheeler\"]]"
   ]
  },
  {
   "cell_type": "code",
   "execution_count": 28,
   "id": "ac598090",
   "metadata": {},
   "outputs": [
    {
     "data": {
      "text/plain": [
       "Index(['Age', 'Height', 'Weight', 'FCVC', 'NCP', 'CH2O', 'FAF', 'TUE',\n",
       "       'NObeyesdad', 'Gender_Female', 'Gender_Male',\n",
       "       'family_history_with_overweight_no',\n",
       "       'family_history_with_overweight_yes', 'FAVC_no', 'FAVC_yes',\n",
       "       'CAEC_Always', 'CAEC_Frequently', 'CAEC_Sometimes', 'CAEC_no',\n",
       "       'SMOKE_no', 'SMOKE_yes', 'SCC_no', 'SCC_yes', 'CALC_Always',\n",
       "       'CALC_Frequently', 'CALC_Sometimes', 'CALC_no', 'MTRANS_Automobile',\n",
       "       'MTRANS_Bike', 'MTRANS_Motorbike', 'MTRANS_Public_Transportation',\n",
       "       'MTRANS_Walking', 'MTRANS_two_wheeler'],\n",
       "      dtype='object')"
      ]
     },
     "execution_count": 28,
     "metadata": {},
     "output_type": "execute_result"
    }
   ],
   "source": [
    "dataset_final.columns"
   ]
  },
  {
   "cell_type": "code",
   "execution_count": 29,
   "id": "a30c9c7d",
   "metadata": {},
   "outputs": [],
   "source": [
    "data_preprocessed=dataset_final\n",
    "data_preprocessed=data_preprocessed.drop([\"MTRANS_Motorbike\",\"MTRANS_Bike\"],axis=1)"
   ]
  },
  {
   "cell_type": "code",
   "execution_count": 30,
   "id": "35a43df9",
   "metadata": {},
   "outputs": [
    {
     "data": {
      "text/plain": [
       "Index(['Age', 'Height', 'Weight', 'FCVC', 'NCP', 'CH2O', 'FAF', 'TUE',\n",
       "       'NObeyesdad', 'Gender_Female', 'Gender_Male',\n",
       "       'family_history_with_overweight_no',\n",
       "       'family_history_with_overweight_yes', 'FAVC_no', 'FAVC_yes',\n",
       "       'CAEC_Always', 'CAEC_Frequently', 'CAEC_Sometimes', 'CAEC_no',\n",
       "       'SMOKE_no', 'SMOKE_yes', 'SCC_no', 'SCC_yes', 'CALC_Always',\n",
       "       'CALC_Frequently', 'CALC_Sometimes', 'CALC_no', 'MTRANS_Automobile',\n",
       "       'MTRANS_Public_Transportation', 'MTRANS_Walking', 'MTRANS_two_wheeler'],\n",
       "      dtype='object')"
      ]
     },
     "execution_count": 30,
     "metadata": {},
     "output_type": "execute_result"
    }
   ],
   "source": [
    "data_preprocessed.columns"
   ]
  },
  {
   "cell_type": "code",
   "execution_count": 31,
   "id": "9e965858",
   "metadata": {},
   "outputs": [
    {
     "name": "stdout",
     "output_type": "stream",
     "text": [
      "Requirement already satisfied: scikit-learn in c:\\users\\a5396\\music\\classification_project\\py312env\\lib\\site-packages (1.7.1)\n",
      "Requirement already satisfied: numpy>=1.22.0 in c:\\users\\a5396\\music\\classification_project\\py312env\\lib\\site-packages (from scikit-learn) (2.1.3)\n",
      "Requirement already satisfied: scipy>=1.8.0 in c:\\users\\a5396\\music\\classification_project\\py312env\\lib\\site-packages (from scikit-learn) (1.15.3)\n",
      "Requirement already satisfied: joblib>=1.2.0 in c:\\users\\a5396\\music\\classification_project\\py312env\\lib\\site-packages (from scikit-learn) (1.5.1)\n",
      "Requirement already satisfied: threadpoolctl>=3.1.0 in c:\\users\\a5396\\music\\classification_project\\py312env\\lib\\site-packages (from scikit-learn) (3.6.0)\n"
     ]
    }
   ],
   "source": [
    "!pip install scikit-learn"
   ]
  },
  {
   "cell_type": "code",
   "execution_count": 32,
   "id": "a205ec97",
   "metadata": {},
   "outputs": [
    {
     "data": {
      "text/plain": [
       "Index(['Age', 'Height', 'Weight', 'FCVC', 'NCP', 'CH2O', 'FAF', 'TUE',\n",
       "       'Gender_Female', 'Gender_Male', 'family_history_with_overweight_no',\n",
       "       'family_history_with_overweight_yes', 'FAVC_no', 'FAVC_yes',\n",
       "       'CAEC_Always', 'CAEC_Frequently', 'CAEC_Sometimes', 'CAEC_no',\n",
       "       'SMOKE_no', 'SMOKE_yes', 'SCC_no', 'SCC_yes', 'CALC_Always',\n",
       "       'CALC_Frequently', 'CALC_Sometimes', 'CALC_no', 'MTRANS_Automobile',\n",
       "       'MTRANS_Public_Transportation', 'MTRANS_Walking', 'MTRANS_two_wheeler'],\n",
       "      dtype='object')"
      ]
     },
     "execution_count": 32,
     "metadata": {},
     "output_type": "execute_result"
    }
   ],
   "source": [
    "from sklearn.preprocessing import StandardScaler\n",
    "sc=StandardScaler()\n",
    "data_preprocessed[['Age', 'Height', 'Weight', 'FCVC', 'NCP', 'CH2O', 'FAF', 'TUE']]=sc.fit_transform(data_preprocessed[['Age', 'Height', 'Weight', 'FCVC', 'NCP', 'CH2O', 'FAF', 'TUE']])\n",
    "\n",
    "data_preprocessed.select_dtypes(include=np.number).columns"
   ]
  },
  {
   "cell_type": "code",
   "execution_count": 36,
   "id": "8ce3f09d",
   "metadata": {},
   "outputs": [
    {
     "data": {
      "text/plain": [
       "np.int64(2087)"
      ]
     },
     "execution_count": 36,
     "metadata": {},
     "output_type": "execute_result"
    }
   ],
   "source": [
    "data_preprocessed[\"NObeyesdad\"].count()"
   ]
  },
  {
   "cell_type": "code",
   "execution_count": 40,
   "id": "f555b815",
   "metadata": {},
   "outputs": [],
   "source": [
    "###finally target label encoding\n",
    "from sklearn.preprocessing import LabelEncoder\n",
    "le=LabelEncoder()\n",
    "data_preprocessed['NObeyesdad']=le.fit_transform(data_preprocessed[\"NObeyesdad\"])\n",
    "\n",
    "X=data_preprocessed.loc[:,data_preprocessed.columns!='NObeyesdad']\n",
    "y=data_preprocessed['NObeyesdad']"
   ]
  },
  {
   "cell_type": "markdown",
   "id": "fd54b8d5",
   "metadata": {},
   "source": [
    "Preprocessing done, proceeding to model training"
   ]
  },
  {
   "cell_type": "code",
   "execution_count": 75,
   "id": "e616bfe7",
   "metadata": {},
   "outputs": [],
   "source": [
    "##Logistic regression\n",
    "from sklearn.model_selection import train_test_split\n",
    "from sklearn.linear_model import LogisticRegressionCV\n",
    "from sklearn.svm import SVC\n",
    "from sklearn.pipeline import make_pipeline\n",
    "from sklearn.metrics import classification_report,accuracy_score\n",
    "\n",
    "#train test split\n",
    "X_train, X_test, y_train, y_test=train_test_split(X,y,random_state=34,test_size=0.2)"
   ]
  },
  {
   "cell_type": "code",
   "execution_count": 92,
   "id": "faff6a5b",
   "metadata": {},
   "outputs": [
    {
     "name": "stdout",
     "output_type": "stream",
     "text": [
      "0.9497607655502392\n"
     ]
    }
   ],
   "source": [
    "lgcv=LogisticRegressionCV(max_iter=1000)\n",
    "lgcv.fit(X_train, y_train)\n",
    "y_pred=lgcv.predict(X_test)\n",
    "print(accuracy_score(y_test,y_pred))"
   ]
  },
  {
   "cell_type": "code",
   "execution_count": 84,
   "id": "a3689e0c",
   "metadata": {},
   "outputs": [
    {
     "name": "stdout",
     "output_type": "stream",
     "text": [
      "0.9473684210526315\n"
     ]
    }
   ],
   "source": [
    "Support_vect_class=SVC(kernel='linear')\n",
    "Support_vect_class.fit(X_train, y_train)\n",
    "y_pred=Support_vect_class.predict(X_test)\n",
    "print(accuracy_score(y_test,y_pred))"
   ]
  },
  {
   "cell_type": "code",
   "execution_count": 93,
   "id": "82db9676",
   "metadata": {},
   "outputs": [
    {
     "name": "stdout",
     "output_type": "stream",
     "text": [
      "              precision    recall  f1-score   support\n",
      "\n",
      "           0       0.98      0.95      0.96        58\n",
      "           1       0.83      0.90      0.86        63\n",
      "           2       1.00      0.98      0.99        60\n",
      "           3       1.00      1.00      1.00        60\n",
      "           4       1.00      1.00      1.00        61\n",
      "           5       0.95      0.84      0.89        63\n",
      "           6       0.91      0.98      0.95        53\n",
      "\n",
      "    accuracy                           0.95       418\n",
      "   macro avg       0.95      0.95      0.95       418\n",
      "weighted avg       0.95      0.95      0.95       418\n",
      "\n"
     ]
    }
   ],
   "source": [
    "from sklearn.ensemble import RandomForestClassifier\n",
    "rfclass=RandomForestClassifier(n_estimators=10000,criterion='log_loss')\n",
    "rfclass.fit(X_train,y_train)\n",
    "y_pred=rfclass.predict(X_test)\n",
    "print(classification_report(y_test,y_pred))"
   ]
  },
  {
   "cell_type": "code",
   "execution_count": null,
   "id": "c0b248c1",
   "metadata": {},
   "outputs": [],
   "source": [
    "from sklearn.metrics import precision_score, recall_score, accuracy_score"
   ]
  },
  {
   "cell_type": "code",
   "execution_count": null,
   "id": "4f419051",
   "metadata": {},
   "outputs": [],
   "source": [
    "def evaluate_model(true, predicted ):\n",
    "    precision=precision_score(true, predicted, average='macro')\n",
    "    recall=recall_score(true, predicted, average='macro')\n",
    "    accuracy=accuracy_score(true, predicted)\n",
    "\n",
    "    return precision, recall, accuracy"
   ]
  },
  {
   "cell_type": "code",
   "execution_count": 104,
   "id": "e698c28e",
   "metadata": {},
   "outputs": [],
   "source": [
    "models={\n",
    "    \"Logistic Regression\":LogisticRegressionCV(max_iter=1000),\n",
    "    \"SVM\":SVC(kernel='linear'),\n",
    "    \"Random Forest\":RandomForestClassifier(n_estimators=10000,criterion='log_loss')\n",
    "}\n",
    "\n",
    "def model_selector(models:dict):\n",
    "        \n",
    "    model_acc_train_val=[]\n",
    "    model_acc_test_val=[]\n",
    "    for i in range(len(list(models))):\n",
    "        model=list(models.values())[i]\n",
    "        model_name=list(models.keys())[i]\n",
    "        model.fit(X_train,y_train)\n",
    "        y_train_pred=model.predict(X_train)\n",
    "        y_test_pred=model.predict(X_test)\n",
    "        model_acc_train=accuracy_score(y_train,y_train_pred)\n",
    "        model_acc_test=accuracy_score(y_test,y_test_pred)\n",
    "        model_acc_train_val.append(model_acc_train)\n",
    "        model_acc_test_val.append(model_acc_test)\n",
    "        print(f\"----------------------------------------------------\\nModel:{model_name}\\n Model accuracy train: {model_acc_train}\\n Model accuracy test: {model_acc_test} \")\n",
    "        \n",
    "    best_model_index=np.argmax(model_acc_test_val)\n",
    "    best_model=list(models.values())[best_model_index]\n",
    "    return best_model"
   ]
  },
  {
   "cell_type": "code",
   "execution_count": 105,
   "id": "a5ecac9a",
   "metadata": {},
   "outputs": [
    {
     "name": "stdout",
     "output_type": "stream",
     "text": [
      "----------------------------------------------------\n",
      "Model:Logistic Regression\n",
      " Model accuracy train: 0.9916117435590174\n",
      " Model accuracy test: 0.9497607655502392 \n",
      "----------------------------------------------------\n",
      "Model:SVM\n",
      " Model accuracy train: 0.9724385859796285\n",
      " Model accuracy test: 0.9473684210526315 \n",
      "----------------------------------------------------\n",
      "Model:Random Forest\n",
      " Model accuracy train: 1.0\n",
      " Model accuracy test: 0.9497607655502392 \n",
      "LogisticRegressionCV(max_iter=1000)\n"
     ]
    }
   ],
   "source": [
    "print(model_selector(models))"
   ]
  },
  {
   "cell_type": "code",
   "execution_count": null,
   "id": "5a4f91a3",
   "metadata": {},
   "outputs": [],
   "source": []
  }
 ],
 "metadata": {
  "kernelspec": {
   "display_name": "base",
   "language": "python",
   "name": "python3"
  },
  "language_info": {
   "codemirror_mode": {
    "name": "ipython",
    "version": 3
   },
   "file_extension": ".py",
   "mimetype": "text/x-python",
   "name": "python",
   "nbconvert_exporter": "python",
   "pygments_lexer": "ipython3",
   "version": "3.12.7"
  }
 },
 "nbformat": 4,
 "nbformat_minor": 5
}
